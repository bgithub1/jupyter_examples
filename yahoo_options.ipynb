{
 "cells": [
  {
   "cell_type": "markdown",
   "metadata": {},
   "source": [
    "## Yahoo options: Fetch options using unpublished yahoo rest api calls\n",
    "### Usage:  _change the value of sym below, and run all cells_\n"
   ]
  },
  {
   "cell_type": "code",
   "execution_count": null,
   "metadata": {},
   "outputs": [],
   "source": [
    "import urllib.request\n",
    "import json\n",
    "import datetime\n",
    "import pandas as pd\n",
    "import numpy as np\n",
    "import pathlib\n",
    "from IPython import display\n",
    "from tqdm import tqdm,tqdm_notebook\n",
    "\n",
    "\n"
   ]
  },
  {
   "cell_type": "code",
   "execution_count": null,
   "metadata": {
    "scrolled": false
   },
   "outputs": [],
   "source": [
    "def _to_dt(ts):\n",
    "    d = datetime.datetime.fromtimestamp(ts)\n",
    "    return datetime.datetime(d.year,d.month,d.day)\n",
    "\n",
    "_DAY_INDEX = ['MON','TUE','WED','THU','FRI','SAT','SUN']\n",
    "def get_nth_weekday(year,month,target_weekday,nth_occurrence):\n",
    "    '''\n",
    "    weekday is the term that assigns numbers from 0 to 6 to the days of the weeks.\n",
    "    weekday 0 = monday\n",
    "    '''\n",
    "    f = f'W-{_DAY_INDEX[target_weekday]}'\n",
    "    dr = pd.date_range(datetime.datetime(int(year),int(month),1), periods=nth_occurrence, freq=f)[-1]\n",
    "    return dr\n",
    "\n"
   ]
  },
  {
   "cell_type": "code",
   "execution_count": null,
   "metadata": {},
   "outputs": [],
   "source": [
    "def get_yahoo_options_expirations(sym):\n",
    "    base_url = f'https://query1.finance.yahoo.com/v7/finance/options/{sym}'\n",
    "    # get main list of contracts\n",
    "    r =  urllib.request.urlopen(base_url)\n",
    "    h = r.read().decode(\"utf-8\")\n",
    "    d = json.loads(h)\n",
    "    c = d['optionChain']['result'][0]\n",
    "    dict_ts =  {d:_to_dt(d) for d in c['expirationDates']}\n",
    "    dict_dt =  {_to_dt(d):d for d in c['expirationDates']}\n",
    "    dict_monthlies = {dt:dict_dt[dt] for dt in dict_dt.keys() if get_nth_weekday(dt.year,dt.month,3,3)==dt}\n",
    "    return dict_ts,dict_dt,dict_monthlies\n",
    "\n",
    "\n",
    "def get_yahoo_options(sym,expirations=None):\n",
    "    base_url = f'https://query1.finance.yahoo.com/v7/finance/options/{sym}'\n",
    "    # get main list of contracts\n",
    "    r =  urllib.request.urlopen(base_url)\n",
    "    h = r.read().decode(\"utf-8\")\n",
    "    d = json.loads(h)\n",
    "    c = d['optionChain']['result'][0]\n",
    "    print(c.keys())\n",
    "\n",
    "    # now process chains\n",
    "    df_chain = None\n",
    "    expiries_to_get = c['expirationDates'] if expirations is None else expirations\n",
    "    for e in expiries_to_get:\n",
    "        u = base_url + f'?date={e}'\n",
    "        print(u,end=' : ')\n",
    "        r =  urllib.request.urlopen(u)\n",
    "        h = r.read().decode(\"utf-8\")\n",
    "        # print(h)\n",
    "        d = json.loads(h)\n",
    "        calls = d['optionChain']['result'][0]['options'][0]['calls']\n",
    "        puts = d['optionChain']['result'][0]['options'][0]['puts']\n",
    "        chain = calls + puts\n",
    "        print(f'calls: {len(calls)} puts:{len(puts)} all:{len(chain)}')\n",
    "        df_temp = pd.DataFrame(chain)\n",
    "        if df_chain is None:\n",
    "            df_chain = df_temp.copy()\n",
    "        else:\n",
    "            df_chain = df_chain.append(df_temp)\n",
    "    def get_dte(v):\n",
    "        try:\n",
    "            t= datetime.datetime.now()\n",
    "            y = int(v.split(sym)[1][0:2]) + 2000\n",
    "            m = int(v.split(sym)[1][2:4])\n",
    "            d = int(v.split(sym)[1][4:6])\n",
    "            dt = datetime.datetime(y,m,d)\n",
    "            return (dt - t).days\n",
    "        except:\n",
    "            return None\n",
    "    df_chain['dte'] = df_chain.contractSymbol.apply(get_dte)\n",
    "    prev_close = c['quote']['regularMarketPreviousClose']\n",
    "    df_chain['pc'] = df_chain.contractSymbol.str[-9]\n",
    "    return df_chain\n",
    "\n",
    "def get_first_n_expiries(sym,first_n_expiries=10):\n",
    "    dict_exp,dict_dt,dict_monthlies = get_yahoo_options_expirations(sym)\n",
    "    expiries = list(dict_dt.values())[:first_n_expiries]\n",
    "    df = get_yahoo_options(sym)    \n",
    "    return df\n",
    "\n",
    "def get_yahoo_monthly_options(sym):\n",
    "    dict_exp,dict_dt,dict_monthlies = get_yahoo_options_expirations(sym)\n",
    "    monthlies = list(dict_monthlies.values())[:2]\n",
    "    df_monthlies = get_yahoo_options(sym,expirations=monthlies)    \n",
    "    return df_monthlies\n",
    "\n",
    "def get_ctm_implied_vols(df_chain,pc='c'):\n",
    "    pc2 = pc.upper()\n",
    "    dfc2 = df_chain[(df_chain.inTheMoney==False) & (df_chain.pc==pc2)][['strike','expiration']]\n",
    "    dfc3 = dfc2.groupby('expiration',as_index=False).min()\n",
    "    dfc4 = dfc3.merge(df_chain[df_chain.pc==pc2],on=['expiration','strike'],how='inner')\n",
    "    return dfc4\n",
    "\n",
    "def get_avg_implied_vol_from_chain(df_chain,pc='c'):\n",
    "    dfc2 = get_ctm_implied_vols(df_chain,pc=pc)\n",
    "    dict_exp = {exp:_to_dt(exp) for exp in dfc2.expiration.values}\n",
    "    def __is3t(dt):\n",
    "        y = dt.year\n",
    "        m = dt.month\n",
    "        d = dt.day\n",
    "        dt2 = datetime.datetime(y,m,d)\n",
    "        thur3 = get_nth_weekday(y,m,3,3)\n",
    "        return dt2==thur3\n",
    "\n",
    "    third_thursdays = [k for k in dict_exp.keys() if __is3t(dict_exp[k])]\n",
    "    dfc3 = dfc2[dfc2.expiration.isin(third_thursdays)].copy()\n",
    "    dfc3['exp_dt']= [dict_exp[k] for k in dfc3.expiration.values]\n",
    "    dfc4 = dfc3[dfc3.dte>=25].sort_values('dte')[:2]\n",
    "    return dfc4\n",
    "\n",
    "    "
   ]
  },
  {
   "cell_type": "code",
   "execution_count": null,
   "metadata": {},
   "outputs": [],
   "source": [
    "def get_implied_vols(sym_list,get_monthly_only=False,first_n_expiries=10):\n",
    "    dict_ret = {}\n",
    "    for sym in tqdm_notebook(sym_list):\n",
    "        try:\n",
    "            if get_monthly_only:\n",
    "                df = get_yahoo_monthly_options(sym)\n",
    "            else:\n",
    "                df = get_first_n_expiries(sym,first_n_expiries=first_n_expiries)\n",
    "            dict_ret[sym] = df.copy()\n",
    "        except Exception as e:\n",
    "            dict_ret[sym] = str(e)\n",
    "            print(str(e))\n",
    "    return dict_ret\n"
   ]
  },
  {
   "cell_type": "code",
   "execution_count": null,
   "metadata": {},
   "outputs": [],
   "source": [
    "def get_avg_implied_vols(sym_list):\n",
    "    dict_ret = {}\n",
    "    for sym in tqdm_notebook(sym_list):\n",
    "        try:\n",
    "            df = get_yahoo_monthly_options(sym)\n",
    "            df = get_avg_implied_vol_from_chain(df)\n",
    "            dict_ret[sym] = df.copy()\n",
    "        except Exception as e:\n",
    "            dict_ret[sym] = str(e)\n",
    "            print(str(e))\n",
    "    return dict_ret\n",
    "        \n"
   ]
  },
  {
   "cell_type": "code",
   "execution_count": null,
   "metadata": {},
   "outputs": [],
   "source": [
    "h = pathlib.Path.home()\n",
    "df_sp500 = pd.read_csv(f\"{h}/downloads/sp500_constituents.csv\")\n",
    "dict_avg_implied_vols = get_avg_implied_vols(df_sp500.Symbol.values)"
   ]
  },
  {
   "cell_type": "code",
   "execution_count": null,
   "metadata": {},
   "outputs": [],
   "source": [
    "np.isnan(dict_avg_implied_vols['NWS'].impliedVolatility.mean())"
   ]
  },
  {
   "cell_type": "code",
   "execution_count": null,
   "metadata": {},
   "outputs": [],
   "source": [
    "df_avg_implied = None\n",
    "for k in dict_avg_implied_vols.keys():\n",
    "    try:\n",
    "        df_avg_imp = dict_avg_implied_vols[k]\n",
    "        avg_vol = df_avg_imp.impliedVolatility.mean()\n",
    "        if np.isnan(avg_vol):\n",
    "            continue\n",
    "        df_avg_imp = pd.DataFrame({'sym':[k],'avg_vol':[avg_vol]})\n",
    "        if df_avg_implied is None:\n",
    "            df_avg_implied = df_avg_imp.copy()\n",
    "        else:\n",
    "            df_avg_implied = df_avg_implied.append(df_avg_imp)\n",
    "        df_avg_implied.index = list(range(len(df_avg_implied)))\n",
    "    except:\n",
    "        print(f\"{k}: {dict_avg_implied_vols[k]}\")\n",
    "        \n",
    "# df_avg_implied = df_avg_implied[['sym','impliedVolatility']].groupby('sym',as_index=False).mean()\n",
    "\n",
    "df_avg_implied = df_avg_implied.sort_values('avg_vol',ascending=False)\n",
    "df_avg_implied.index = list(range(len(df_avg_implied)))\n",
    "df_avg_implied\n",
    "                                "
   ]
  },
  {
   "cell_type": "code",
   "execution_count": null,
   "metadata": {},
   "outputs": [],
   "source": [
    "df_avg_implied.to_csv('df_avg_implied.csv',index=False)"
   ]
  },
  {
   "cell_type": "code",
   "execution_count": null,
   "metadata": {},
   "outputs": [],
   "source": [
    "h = pathlib.Path.home()\n",
    "df_sp500 = pd.read_csv(f\"{h}/downloads/sp500_constituents.csv\")\n",
    "dict_all_implied_vols = get_implied_vols(df_sp500.Symbol.values)"
   ]
  },
  {
   "cell_type": "code",
   "execution_count": null,
   "metadata": {},
   "outputs": [],
   "source": [
    "df_all_implied = None\n",
    "for k in tqdm_notebook(dict_all_implied_vols.keys()):\n",
    "    try:\n",
    "        df_all_imp  = dict_all_implied_vols[k]\n",
    "        avg_vol = df_all_imp.impliedVolatility.mean()\n",
    "        if np.isnan(avg_vol):\n",
    "            continue\n",
    "        df_all_imp['symbol'] = k\n",
    "        if df_all_implied is None:\n",
    "            df_all_implied = df_all_imp.copy()\n",
    "        else:\n",
    "            df_all_implied = df_all_implied.append(df_all_imp)\n",
    "        df_all_implied.index = list(range(len(df_all_implied)))\n",
    "    except:\n",
    "        print(f\"{k}: {dict_all_implied_vols[k]}\")\n",
    "        \n"
   ]
  },
  {
   "cell_type": "code",
   "execution_count": null,
   "metadata": {},
   "outputs": [],
   "source": [
    "#!jupyter nbconvert --to script yahoo_options.ipynb"
   ]
  },
  {
   "cell_type": "code",
   "execution_count": null,
   "metadata": {},
   "outputs": [],
   "source": [
    "df_all_implied.to_csv('df_all_implied.csv',index=False)"
   ]
  },
  {
   "cell_type": "code",
   "execution_count": null,
   "metadata": {},
   "outputs": [],
   "source": []
  }
 ],
 "metadata": {
  "kernelspec": {
   "display_name": "Python 3",
   "language": "python",
   "name": "python3"
  },
  "language_info": {
   "codemirror_mode": {
    "name": "ipython",
    "version": 3
   },
   "file_extension": ".py",
   "mimetype": "text/x-python",
   "name": "python",
   "nbconvert_exporter": "python",
   "pygments_lexer": "ipython3",
   "version": "3.6.5"
  }
 },
 "nbformat": 4,
 "nbformat_minor": 2
}
