{
 "cells": [
  {
   "cell_type": "code",
   "execution_count": null,
   "metadata": {
    "scrolled": true
   },
   "outputs": [],
   "source": [
    "import pandas as pd\n",
    "import numpy as np\n",
    "import pypg.pg_pandas as pg\n",
    "import os,sys\n",
    "import pdb\n",
    "import torch \n",
    "from torch import nn\n",
    "from torch.autograd import Variable\n",
    "from torch import optim\n",
    "import torch.nn.functional as F\n",
    "from dash.dependencies import Input, Output, State\n",
    "%matplotlib inline\n",
    "import matplotlib.pyplot as plt\n",
    "import plotly.plotly as py\n",
    "import plotly.graph_objs as go\n",
    "\n",
    "import numpy as np\n",
    "import plotly.figure_factory as ff\n",
    "import pandas as pd\n",
    "import urllib.request\n",
    "import scipy\n",
    "from pathlib import Path\n",
    "USER_HOME = str(Path.home())"
   ]
  },
  {
   "cell_type": "code",
   "execution_count": null,
   "metadata": {},
   "outputs": [],
   "source": [
    "pd.set_option('display.max_colwidth', -1)"
   ]
  },
  {
   "cell_type": "code",
   "execution_count": null,
   "metadata": {},
   "outputs": [],
   "source": [
    "df_chase_begin = pd.read_csv(f'{USER_HOME}/Documents/billybyte/qbpython/selaccess/selaccess/temp_folder/chase_jobs_njc.csv')\n",
    "df_chase_begin['title'] = df_chase_begin.description.apply(lambda v: v.split('Req')[0].replace('\\n',''))\n",
    "print(f'total before duplicate drop: {len(df_chase_begin)}')\n",
    "df_chase = df_chase_begin.drop_duplicates(subset=['req'])\n"
   ]
  },
  {
   "cell_type": "code",
   "execution_count": null,
   "metadata": {},
   "outputs": [],
   "source": [
    "df_chase_begin[['req','title']].sort_values('req')"
   ]
  },
  {
   "cell_type": "code",
   "execution_count": null,
   "metadata": {},
   "outputs": [],
   "source": [
    "df_chase[['req','title']]"
   ]
  },
  {
   "cell_type": "code",
   "execution_count": null,
   "metadata": {},
   "outputs": [],
   "source": [
    "words_to_search = ['tech','soft','support','wealth']\n",
    "tech_indices = df_chase[df_chase.title.str.lower().str.contains('|'.join(words_to_search))].index\n",
    "df_chase_tech = df_chase.loc[tech_indices]\n",
    "df_chase_tech[['req','title']]"
   ]
  },
  {
   "cell_type": "code",
   "execution_count": null,
   "metadata": {},
   "outputs": [],
   "source": [
    "support_indices = df_chase[df_chase.title.str.lower().str.contains('|'.join(['support']))].index\n",
    "df_chase_support = df_chase.loc[support_indices]\n",
    "df_chase_support[['req','title']]"
   ]
  },
  {
   "cell_type": "code",
   "execution_count": null,
   "metadata": {},
   "outputs": [],
   "source": []
  },
  {
   "cell_type": "code",
   "execution_count": null,
   "metadata": {},
   "outputs": [],
   "source": [
    "for s in df_chase_tech.loc[47].description.split('\\n'):\n",
    "    print(s)"
   ]
  },
  {
   "cell_type": "code",
   "execution_count": null,
   "metadata": {},
   "outputs": [],
   "source": []
  }
 ],
 "metadata": {
  "kernelspec": {
   "display_name": "Python 3",
   "language": "python",
   "name": "python3"
  },
  "language_info": {
   "codemirror_mode": {
    "name": "ipython",
    "version": 3
   },
   "file_extension": ".py",
   "mimetype": "text/x-python",
   "name": "python",
   "nbconvert_exporter": "python",
   "pygments_lexer": "ipython3",
   "version": "3.6.5"
  }
 },
 "nbformat": 4,
 "nbformat_minor": 2
}
