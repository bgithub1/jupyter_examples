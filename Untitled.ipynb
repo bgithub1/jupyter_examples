{
 "cells": [
  {
   "cell_type": "code",
   "execution_count": null,
   "metadata": {},
   "outputs": [],
   "source": [
    "import pandas as pd\n",
    "import numpy as np\n",
    "import yfinance as yf\n",
    "import itertools\n",
    "%matplotlib inline\n",
    "import matplotlib.pyplot as plt\n",
    "import plotly.plotly as py\n",
    "import plotly.graph_objs as go\n",
    "import datetime\n",
    "from plotly.offline import  init_notebook_mode, iplot\n",
    "init_notebook_mode(connected=True)\n",
    "import os,sys\n",
    "import plot_utilities as pu\n",
    "import peakutils\n",
    "from peakutils.plot import plot as pplot\n",
    "from pathlib import Path\n",
    "USER_HOME = str(Path.home())"
   ]
  },
  {
   "cell_type": "code",
   "execution_count": null,
   "metadata": {},
   "outputs": [],
   "source": []
  },
  {
   "cell_type": "code",
   "execution_count": null,
   "metadata": {},
   "outputs": [],
   "source": [
    "df_medi_cal['pname'] = df_medi_cal['Provider Legal Name'].str.lower()\n",
    "df_medi_cal2 = df_medi_cal[~df_medi_cal.pname.isnull()]\n",
    "df_medi_cal2[df_medi_cal2.pname.str.contains('abovi')]"
   ]
  },
  {
   "cell_type": "code",
   "execution_count": null,
   "metadata": {},
   "outputs": [],
   "source": [
    "p_col = [c for c in df_medi_cal.columns.values if 'zip' in str(c).lower()][0]\n",
    "df_medi_cal2 = df_medi_cal[df_medi_cal[p_col].astype(str).str.contains('9120[3]',regex=True)]\n",
    "df_medi_cal3 = df_medi_cal2[df_medi_cal2['Provider Address City'].str.lower().str.contains('glendale')]\n",
    "print(len(df_medi_cal3))\n",
    "print(sorted(df_medi_cal3['Provider Type Code Desc'].unique()))\n",
    "df_medi_cal4 = df_medi_cal3[df_medi_cal3['Provider Type Code Desc'].str.contains('PHYSICIANS')]\n",
    "print(len(df_medi_cal4))\n",
    "sorted(df_medi_cal4['Provider Type Code'].unique())"
   ]
  },
  {
   "cell_type": "code",
   "execution_count": null,
   "metadata": {},
   "outputs": [],
   "source": [
    "df_medi_cal4[df_medi_cal4['Provider Legal Name'].str.lower().str.contains('abovi')]"
   ]
  },
  {
   "cell_type": "code",
   "execution_count": null,
   "metadata": {},
   "outputs": [],
   "source": [
    "df_medi_cal4.to_csv('{USER_HOME}/medi_cal_providers_glendale.csv',index=False)"
   ]
  },
  {
   "cell_type": "code",
   "execution_count": null,
   "metadata": {},
   "outputs": [],
   "source": [
    "\n",
    "msft = yf.Ticker(\"MSFT\")\n",
    "\n",
    "# get stock info\n",
    "msft.info\n",
    "\n",
    "# get historical market data\n",
    "hist = msft.history(period=\"max\")\n",
    "\n",
    "# show actions (dividends, splits)\n",
    "msft.actions\n",
    "\n",
    "# show dividends\n",
    "msft.dividends\n",
    "\n",
    "# show splits\n",
    "msft.splits"
   ]
  },
  {
   "cell_type": "code",
   "execution_count": null,
   "metadata": {},
   "outputs": [],
   "source": [
    "len(hist)"
   ]
  },
  {
   "cell_type": "code",
   "execution_count": null,
   "metadata": {},
   "outputs": [],
   "source": [
    "data = yf.download(  # or pdr.get_data_yahoo(...\n",
    "        # tickers list or string as well\n",
    "        tickers = \"CLN19.NYM\",\n",
    "#     start=\"2019-03-01\", end=\"2019-05-25\",\n",
    "\n",
    "        # use \"period\" instead of start/end\n",
    "        # valid periods: 1d,5d,1mo,3mo,6mo,1y,2y,5y,10y,ytd,max\n",
    "        # (optional, default is '1mo')\n",
    "        period = \"59d\",\n",
    "\n",
    "        # fetch data by interval (including intraday if period < 60 days)\n",
    "        # valid intervals: 1m,2m,5m,15m,30m,60m,90m,1h,1d,5d,1wk,1mo,3mo\n",
    "        # (optional, default is '1d')\n",
    "        interval = \"30m\",\n",
    "\n",
    "        # group by ticker (to access via data['SPY'])\n",
    "        # (optional, default is 'column')\n",
    "        group_by = 'ticker',\n",
    "\n",
    "        # adjust all OHLC automatically\n",
    "        # (optional, default is False)\n",
    "        auto_adjust = True,\n",
    "\n",
    "        # download pre/post regular market hours data\n",
    "        # (optional, default is False)\n",
    "        prepost = True,\n",
    "\n",
    "        # use threads for mass downloading? (True/False/Integer)\n",
    "        # (optional, default is True)\n",
    "        treads = True,\n",
    "\n",
    "        # proxy URL scheme use use when downloading?\n",
    "        # (optional, default is None)\n",
    "        proxy = None\n",
    "    )"
   ]
  },
  {
   "cell_type": "code",
   "execution_count": null,
   "metadata": {},
   "outputs": [],
   "source": [
    "xle_xlu = yf.download(tickers='XLE XLU',interval='1d',period=f'{256*20}d')"
   ]
  },
  {
   "cell_type": "code",
   "execution_count": null,
   "metadata": {},
   "outputs": [],
   "source": [
    "xle_xlu.columns.values"
   ]
  },
  {
   "cell_type": "code",
   "execution_count": null,
   "metadata": {},
   "outputs": [],
   "source": [
    "xle_xlu3 = xle_xlu.copy()\n",
    "l0 = set(xle_xlu3.columns.get_level_values(0))\n",
    "l1 = set(xle_xlu3.columns.get_level_values(1))\n",
    "xle_xlu3.columns = [f'{i0}_{i1}'.replace(' ','_') for i1 in l1 for i0 in l0]\n"
   ]
  },
  {
   "cell_type": "code",
   "execution_count": null,
   "metadata": {},
   "outputs": [],
   "source": [
    "xle_xlu3 = xle_xlu.copy()\n",
    "xle = xle_xlu3.xs('XLE',level=1,axis=1)\n",
    "xlu = xle_xlu3.xs('XLU',level=1,axis=1)\n",
    "s = xle.Close - xlu.Close\n",
    "df_xle_xlu = pd.DataFrame({'date':s.index,'close':s.values})"
   ]
  },
  {
   "cell_type": "code",
   "execution_count": null,
   "metadata": {},
   "outputs": [],
   "source": [
    "df_xle_xlu.plot(x='date',y='close',figsize=(20,6))\n",
    "plt.grid()"
   ]
  },
  {
   "cell_type": "code",
   "execution_count": null,
   "metadata": {},
   "outputs": [],
   "source": [
    "df_xle_xlu['pct_chg'] = df_xle_xlu.close.pct_change()"
   ]
  },
  {
   "cell_type": "code",
   "execution_count": null,
   "metadata": {},
   "outputs": [],
   "source": [
    "xle['pct_chg'] = xle.Close.pct_change()\n",
    "xle['date'] = xle.index"
   ]
  },
  {
   "cell_type": "code",
   "execution_count": null,
   "metadata": {},
   "outputs": [],
   "source": [
    "xle.head()"
   ]
  },
  {
   "cell_type": "code",
   "execution_count": null,
   "metadata": {},
   "outputs": [],
   "source": [
    "df_xle_xlu.head()"
   ]
  },
  {
   "cell_type": "code",
   "execution_count": null,
   "metadata": {
    "scrolled": true
   },
   "outputs": [],
   "source": [
    "df_merge = df_xle_xlu.merge(xle,how='inner',on='date')\n",
    "n = 50\n",
    "num_chunks = len(df_merge.iloc[1:])//n\n",
    "num_chunks += 1 if num_chunks % n > 0 else 0\n",
    "dflist = []\n",
    "for chunk in range(num_chunks):\n",
    "    print(df_merge.iloc[chunk*n:(chunk+1)*n][['pct_chg_x','pct_chg_y']].corr().as_matrix()[0][1])"
   ]
  },
  {
   "cell_type": "code",
   "execution_count": null,
   "metadata": {},
   "outputs": [],
   "source": [
    "dict_df_spy_xlb_xlk = pu.get_yahoo_dfs('SPY XLB XLK',days_to_fetch=365*20)"
   ]
  },
  {
   "cell_type": "code",
   "execution_count": null,
   "metadata": {},
   "outputs": [],
   "source": [
    "dict_df_spy_xlb_xlk.keys()"
   ]
  },
  {
   "cell_type": "code",
   "execution_count": null,
   "metadata": {},
   "outputs": [],
   "source": [
    "df_spy = dict_df_spy_xlb_xlk['SPY']\n",
    "df_xlb = dict_df_spy_xlb_xlk['XLB']\n",
    "df_xlk = dict_df_spy_xlb_xlk['XLK']\n"
   ]
  },
  {
   "cell_type": "code",
   "execution_count": null,
   "metadata": {},
   "outputs": [],
   "source": [
    "# df_spy.columns = df_spy.columns.get_level_values(0)\n",
    "df_spy.head()"
   ]
  },
  {
   "cell_type": "code",
   "execution_count": null,
   "metadata": {},
   "outputs": [],
   "source": [
    "df_xlb.head()"
   ]
  },
  {
   "cell_type": "code",
   "execution_count": null,
   "metadata": {},
   "outputs": [],
   "source": [
    "df_xlk.head()"
   ]
  },
  {
   "cell_type": "code",
   "execution_count": null,
   "metadata": {},
   "outputs": [],
   "source": [
    "df_test = df_spy.copy()\n",
    "df_test.close = df_test.unadj_close\n",
    "x = df_test.date.values\n",
    "\n",
    "# get Peaks\n",
    "y = df_test.high.values\n",
    "high_indexes = peakutils.indexes(y, thres=0.3, min_dist=7)\n",
    "\n",
    "# get Valleys\n",
    "y = df_test.low.values * -1\n",
    "low_indexes = peakutils.indexes(y, thres=0.3, min_dist=20)\n",
    "# print(low_indexes)\n",
    "y = df_test.close\n",
    "# plt.figure(figsize=(30,6))\n",
    "# pplot(x, y, high_indexes)\n",
    "# pplot(x, y, low_indexes)\n",
    "print(len(low_indexes))\n"
   ]
  },
  {
   "cell_type": "code",
   "execution_count": null,
   "metadata": {},
   "outputs": [],
   "source": [
    "df_test = df_spy.copy()\n",
    "df_test.close = df_test.unadj_close\n",
    "df_test.date = df_test.date.astype(str).str.slice(0,10)\n",
    "df_test.volume = 0\n",
    "df_test.loc[df_test.index[low_indexes],'volume'] = 1\n",
    "df_test.volume.sum()"
   ]
  },
  {
   "cell_type": "code",
   "execution_count": null,
   "metadata": {
    "scrolled": false
   },
   "outputs": [],
   "source": [
    "number_of_ticks_display=200\n",
    "num_plots = len(df_test)//number_of_ticks_display \n",
    "num_plots += 1 if len(df_test) % number_of_ticks_display > 0 else 0\n",
    "for plot_num in range(0,num_plots):\n",
    "    bi = plot_num*number_of_ticks_display\n",
    "    ei = bi + number_of_ticks_display\n",
    "    try:\n",
    "        bd = df_test.iloc[bi].date\n",
    "        ed = df_test.iloc[ei].date\n",
    "        t = f'{str(bd)[0:10]} - {str(ed)[0:10]}'\n",
    "        df_test_slice = df_test.iloc[bi:ei]\n",
    "        if df_test_slice.volume.sum()>0:\n",
    "            f = pu.plotly_candles(df=df_test_slice,number_of_ticks_display=31,title=t)\n",
    "    except Exception as e:\n",
    "        print(f'error - {str(e)}')\n"
   ]
  },
  {
   "cell_type": "code",
   "execution_count": null,
   "metadata": {},
   "outputs": [],
   "source": [
    "df_zsy00 = pu.get_barchart_daily(short_name='ZSY00',days_to_fetch=256*20)\n",
    "df_s = pu.get_barchart_daily(short_name='ZSN19',days_to_fetch=256*20)"
   ]
  },
  {
   "cell_type": "code",
   "execution_count": null,
   "metadata": {},
   "outputs": [],
   "source": [
    "df_s['ZSN19'] = df_s.close\n",
    "df_zsy00['ZSY00'] = df_zsy00.close\n",
    "df_merge = df_s[['date','ZSN19']].merge(df_zsy00[['date','ZSY00']],how='inner',on='date')"
   ]
  },
  {
   "cell_type": "code",
   "execution_count": null,
   "metadata": {},
   "outputs": [],
   "source": [
    "df_merge['fut_vs_cash'] = df_merge.ZSN19 - df_merge.ZSY00"
   ]
  },
  {
   "cell_type": "code",
   "execution_count": null,
   "metadata": {},
   "outputs": [],
   "source": [
    "df_merge"
   ]
  },
  {
   "cell_type": "code",
   "execution_count": null,
   "metadata": {},
   "outputs": [],
   "source": [
    "df_merge.plot(x='date',y='fut_vs_cash')"
   ]
  },
  {
   "cell_type": "code",
   "execution_count": null,
   "metadata": {},
   "outputs": [],
   "source": [
    "df_corn = pu.get_barchart_daily(short_name='ZCN19',days_to_fetch=120)"
   ]
  },
  {
   "cell_type": "code",
   "execution_count": null,
   "metadata": {},
   "outputs": [],
   "source": [
    "df_corn.date = df_corn.date.astype(str).str.slice(0,10)\n"
   ]
  },
  {
   "cell_type": "code",
   "execution_count": null,
   "metadata": {},
   "outputs": [],
   "source": [
    "pu.plotly_candles(df=df_corn,number_of_ticks_display=21)"
   ]
  },
  {
   "cell_type": "code",
   "execution_count": null,
   "metadata": {},
   "outputs": [],
   "source": [
    "df_soy = pu.get_barchart_daily(short_name='ZSN19',days_to_fetch=120)\n",
    "df_soy.date = df_soy.date.astype(str).str.slice(0,10)\n"
   ]
  },
  {
   "cell_type": "code",
   "execution_count": null,
   "metadata": {},
   "outputs": [],
   "source": [
    "df_soy2 = df_soy.copy()\n",
    "df_corn2=df_corn.copy()\n",
    "df_soy2.index=df_soy2.date\n",
    "df_corn2.index = df_corn2.date"
   ]
  },
  {
   "cell_type": "code",
   "execution_count": null,
   "metadata": {},
   "outputs": [],
   "source": [
    "df_both = df_corn2[['close']].join(df_soy2[['close']],lsuffix='_corn',rsuffix='_soy')"
   ]
  },
  {
   "cell_type": "code",
   "execution_count": null,
   "metadata": {},
   "outputs": [],
   "source": [
    "df_both.head()"
   ]
  },
  {
   "cell_type": "code",
   "execution_count": null,
   "metadata": {},
   "outputs": [],
   "source": [
    "df_both2 = df_both.copy()\n",
    "df_both2['date'] = df_both2.index\n",
    "df_both2['close_corn']  = df_both2['close_corn'] / df_both2['close_corn'].rolling(5).mean()\n",
    "df_both2['close_soy']  = df_both2['close_soy'] / df_both2['close_soy'].rolling(5).mean()\n",
    "df_both2.index = list(range(len(df_both2)))\n",
    "iplot(pu.plotly_pandas(df_both2,figsize=(20,6),x_column='date'))"
   ]
  },
  {
   "cell_type": "code",
   "execution_count": null,
   "metadata": {},
   "outputs": [],
   "source": []
  },
  {
   "cell_type": "code",
   "execution_count": null,
   "metadata": {},
   "outputs": [],
   "source": [
    "p = 5\n",
    "print(np.percentile(df_both.close_corn.values,p))\n",
    "i = int(p/100 * len(df_both))\n",
    "print(i,len(df_both))\n",
    "df_both.sort_values('close_corn').iloc[i:].close_corn"
   ]
  },
  {
   "cell_type": "code",
   "execution_count": null,
   "metadata": {},
   "outputs": [],
   "source": [
    "df_both.sort_values('close_corn').close_corn.values"
   ]
  },
  {
   "cell_type": "code",
   "execution_count": null,
   "metadata": {},
   "outputs": [],
   "source": []
  }
 ],
 "metadata": {
  "kernelspec": {
   "display_name": "Python 3",
   "language": "python",
   "name": "python3"
  },
  "language_info": {
   "codemirror_mode": {
    "name": "ipython",
    "version": 3
   },
   "file_extension": ".py",
   "mimetype": "text/x-python",
   "name": "python",
   "nbconvert_exporter": "python",
   "pygments_lexer": "ipython3",
   "version": "3.6.5"
  }
 },
 "nbformat": 4,
 "nbformat_minor": 2
}
